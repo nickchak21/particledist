{
 "cells": [
  {
   "cell_type": "code",
   "execution_count": 1,
   "metadata": {},
   "outputs": [
    {
     "name": "stdout",
     "output_type": "stream",
     "text": [
      "Defaulting to user installation because normal site-packages is not writeable\n",
      "Requirement already satisfied: energyflow in ./.local/lib/python3.5/site-packages (1.0.2)\n",
      "Requirement already satisfied: h5py>=2.9.0 in /usr/local/lib/python3.5/dist-packages (from energyflow) (2.10.0)\n",
      "Requirement already satisfied: six>=1.10.0 in /usr/local/lib/python3.5/dist-packages (from energyflow) (1.14.0)\n",
      "Requirement already satisfied: numpy>=1.14.0 in /usr/local/lib/python3.5/dist-packages (from energyflow) (1.18.1)\n",
      "Defaulting to user installation because normal site-packages is not writeable\n",
      "Requirement already satisfied: h5py in /usr/local/lib/python3.5/dist-packages (2.10.0)\n",
      "Requirement already satisfied: numpy>=1.7 in /usr/local/lib/python3.5/dist-packages (from h5py) (1.18.1)\n",
      "Requirement already satisfied: six in /usr/local/lib/python3.5/dist-packages (from h5py) (1.14.0)\n",
      "Defaulting to user installation because normal site-packages is not writeable\n",
      "Requirement already satisfied: POT in ./.local/lib/python3.5/site-packages (0.6.0)\n",
      "Requirement already satisfied: numpy in /usr/local/lib/python3.5/dist-packages (from POT) (1.18.1)\n",
      "Requirement already satisfied: scipy in /usr/local/lib/python3.5/dist-packages (from POT) (1.4.1)\n",
      "Requirement already satisfied: cython in ./.local/lib/python3.5/site-packages (from POT) (0.29.15)\n"
     ]
    }
   ],
   "source": [
    "# Installing necessary particle physics libraries\n",
    "!pip install energyflow\n",
    "!pip install h5py\n",
    "!pip install POT"
   ]
  },
  {
   "cell_type": "code",
   "execution_count": 2,
   "metadata": {},
   "outputs": [
    {
     "name": "stdout",
     "output_type": "stream",
     "text": [
      "Requirement already satisfied: particledist==1.0.9 in ./.local/lib/python3.5/site-packages (1.0.9)\n",
      "Requirement already satisfied: h5py in /usr/local/lib/python3.5/dist-packages (from particledist==1.0.9) (2.10.0)\n",
      "Requirement already satisfied: energyflow in ./.local/lib/python3.5/site-packages (from particledist==1.0.9) (1.0.2)\n",
      "Requirement already satisfied: matplotlib in /usr/local/lib/python3.5/dist-packages (from particledist==1.0.9) (3.0.3)\n",
      "Requirement already satisfied: numpy in /usr/local/lib/python3.5/dist-packages (from particledist==1.0.9) (1.18.1)\n",
      "Requirement already satisfied: scikit-learn in /usr/local/lib/python3.5/dist-packages (from particledist==1.0.9) (0.22.1)\n",
      "Requirement already satisfied: POT in ./.local/lib/python3.5/site-packages (from particledist==1.0.9) (0.6.0)\n",
      "Requirement already satisfied: six in /usr/local/lib/python3.5/dist-packages (from h5py->particledist==1.0.9) (1.14.0)\n",
      "Requirement already satisfied: pyparsing!=2.0.4,!=2.1.2,!=2.1.6,>=2.0.1 in /usr/local/lib/python3.5/dist-packages (from matplotlib->particledist==1.0.9) (2.4.6)\n",
      "Requirement already satisfied: cycler>=0.10 in /usr/local/lib/python3.5/dist-packages (from matplotlib->particledist==1.0.9) (0.10.0)\n",
      "Requirement already satisfied: kiwisolver>=1.0.1 in /usr/local/lib/python3.5/dist-packages (from matplotlib->particledist==1.0.9) (1.1.0)\n",
      "Requirement already satisfied: python-dateutil>=2.1 in /usr/local/lib/python3.5/dist-packages (from matplotlib->particledist==1.0.9) (2.8.1)\n",
      "Requirement already satisfied: joblib>=0.11 in /usr/local/lib/python3.5/dist-packages (from scikit-learn->particledist==1.0.9) (0.14.1)\n",
      "Requirement already satisfied: scipy>=0.17.0 in /usr/local/lib/python3.5/dist-packages (from scikit-learn->particledist==1.0.9) (1.4.1)\n",
      "Requirement already satisfied: cython in ./.local/lib/python3.5/site-packages (from POT->particledist==1.0.9) (0.29.15)\n",
      "Requirement already satisfied: setuptools in /usr/local/lib/python3.5/dist-packages (from kiwisolver>=1.0.1->matplotlib->particledist==1.0.9) (45.1.0)\n"
     ]
    }
   ],
   "source": [
    "# Installing my library: make sure version 1.0.9 is installed for calculating default AUC values\n",
    "!pip install --user particledist==1.0.9"
   ]
  },
  {
   "cell_type": "markdown",
   "metadata": {},
   "source": [
    "**The following code calculates default AUC values between mass bins without any signal injection**"
   ]
  },
  {
   "cell_type": "code",
   "execution_count": 3,
   "metadata": {},
   "outputs": [],
   "source": [
    "# Standard library imports\n",
    "from __future__ import absolute_import, division, print_function\n",
    "from time import process_time\n",
    "import energyflow as ef\n",
    "import numpy as np\n",
    "import matplotlib.pyplot as plt"
   ]
  },
  {
   "cell_type": "code",
   "execution_count": 4,
   "metadata": {},
   "outputs": [
    {
     "name": "stdout",
     "output_type": "stream",
     "text": [
      "Number of jets:  504909\n",
      "Max:  143.2047119\n",
      "Min:  3.663904428\n"
     ]
    }
   ],
   "source": [
    "# Load data\n",
    "specs = ['375 <= corr_jet_pts <= 425', 'abs_jet_eta < 1.9', 'quality >= 2']\n",
    "amount = 0.2\n",
    "sim = ef.mod.load(*specs, dataset='sim', amount=amount)\n",
    "print(\"Number of jets: \", len(sim))\n",
    "\n",
    "print(\"Max: \", np.amax(sim.jet_ms))\n",
    "print(\"Min: \", np.amin(sim.jet_ms))"
   ]
  },
  {
   "cell_type": "code",
   "execution_count": 5,
   "metadata": {},
   "outputs": [],
   "source": [
    "# Import my library\n",
    "from particledist import ParticleDistributionCMS"
   ]
  },
  {
   "cell_type": "markdown",
   "metadata": {},
   "source": [
    "Constructs a ParticleDistributionCMS object; accepts 1 parameter: the EnergyFlow data object generated by `ef.mod.load()`. The constructor automatically pulls the relevant information from the EnergyFlow simulation data format and stores it in instance variables for easy access. This process takes a while (usually ~ 1 hour).\n",
    "\n",
    "The instance variables that are initialized in the constructor are the following:\n",
    "\n",
    "`self.event_list`: Stores all data on the particles in each jet, grouped by event. Each particle is represented as a 4-vector - (pt,y,phi,pid), where pid is the particle's PDG ID. The jet arrays are not padded.\n",
    "\n",
    "`self.event_jet_labels`: Stores the particle IDs of the hard partons associated to each jet, grouped by event. In this dataset, all partons are either quarks or gluons.\n",
    "\n",
    "`self.event_pts`: Stores transverse momentum of the jets, grouped by event.\n",
    "\n",
    "`self.event_etas`: Stores pseudorapidities of the jets, grouped by event.\n",
    "\n",
    "`self.event_phis`: Stores azimuthal angles of the jets, grouped by event.\n",
    "\n",
    "`self.event_ms`: Stores masses of the jets, grouped by event.\n",
    "\n",
    "`self.event_stats`: Stores energy-momentum 4-vectors of the jets, grouped by event. These energy-momentum vectors were calculated using the pts, etas, phis, and ms from the 4 instance variables above.\n",
    "\n",
    "All of the above variables are lists, not numpy arrays."
   ]
  },
  {
   "cell_type": "code",
   "execution_count": 6,
   "metadata": {},
   "outputs": [
    {
     "name": "stdout",
     "output_type": "stream",
     "text": [
      "Elapsed time during the whole program in seconds: 3955.9736442660005\n"
     ]
    }
   ],
   "source": [
    "CMS_20p_dist = ParticleDistributionCMS.ParticleDistributionCMS(sim)"
   ]
  },
  {
   "cell_type": "markdown",
   "metadata": {},
   "source": [
    "Users can choose to work with events that have 1, 2, 3, or 4 jets in them. Each variety has its own set of methods and instance variables. User can access these instance variables at any time if they want to, for example, use data from both 2-jet and 3-jet events. However, all of the following pre-processing has to be done separately for 1, 2, 3, or 4-jet events. I do the pre-processing below for just 2-jet events."
   ]
  },
  {
   "cell_type": "markdown",
   "metadata": {},
   "source": [
    "Establishes 3 instance variables to contain data for 2-jet events:\n",
    "\n",
    "`self.event_list_2`: Stores all data on the particle 4-vectors (pt,y,phi,pid) in each jet, grouped by event. Very similar to `self.event_list`, except with only 2-jet events.\n",
    "\n",
    "`self.event_stats_2`: Stores energy-momentum 4-vectors of the jets, grouped by event. Very similar to `self.event_stats`, except with only 2-jet events.\n",
    "\n",
    "`self.event_jet_labels_2`: Stores the particle IDs of the hard partons associated to each jet, grouped by event. Very similar to `self.event_jet_labels`, except with only 2-jet events."
   ]
  },
  {
   "cell_type": "code",
   "execution_count": 7,
   "metadata": {},
   "outputs": [],
   "source": [
    "CMS_20p_dist.choose_2jet_events()"
   ]
  },
  {
   "cell_type": "markdown",
   "metadata": {},
   "source": [
    "Up until now, the energy-momentum 4-vectors of each of the jets had been stored individually. Now, we add the 4-vectors of the jets in each event and store the results in an instance variable called `self.event_stats_added_2`."
   ]
  },
  {
   "cell_type": "code",
   "execution_count": 8,
   "metadata": {},
   "outputs": [],
   "source": [
    "CMS_20p_dist.add_event4vectors_2jet()"
   ]
  },
  {
   "cell_type": "markdown",
   "metadata": {},
   "source": [
    "We have the total energy-momentum 4-vectors corresponding to each event. Now, we calculate an invariant mass for each event from these 4-vectors and store it in an instance variable called `self.event_mass_2jet`."
   ]
  },
  {
   "cell_type": "code",
   "execution_count": 9,
   "metadata": {},
   "outputs": [],
   "source": [
    "CMS_20p_dist.event_mass_2jet()"
   ]
  },
  {
   "cell_type": "markdown",
   "metadata": {},
   "source": [
    "Quick check to make sure our masses were calculated properly: we show a histogram of the event masses; they look the same as when we did the same calculation manually, meaning the library likely did it correctly."
   ]
  },
  {
   "cell_type": "code",
   "execution_count": 10,
   "metadata": {},
   "outputs": [
    {
     "data": {
      "image/png": "[encoded data removed]",
      "text/plain": [
       "<Figure size 432x288 with 1 Axes>"
      ]
     },
     "metadata": {
      "needs_background": "light"
     },
     "output_type": "display_data"
    }
   ],
   "source": [
    "plt.hist(CMS_20p_dist.event_mass_2jet, bins = 15)\n",
    "plt.show()"
   ]
  },
  {
   "cell_type": "markdown",
   "metadata": {},
   "source": [
    "Now that we have our mass statistics, we need to divide our events into bins to form an event mass distribution. particledist uses another class for this called MassDistribution."
   ]
  },
  {
   "cell_type": "code",
   "execution_count": 11,
   "metadata": {},
   "outputs": [],
   "source": [
    "from particledist import MassDistribution"
   ]
  },
  {
   "cell_type": "markdown",
   "metadata": {},
   "source": [
    "Forms a MassDistribution object. The constructor takes a list of event masses and another list of jet particle 4-vectors (like we had stored in `self.event_list`). For this analysis, I chose to use only 2-jet events, and the instance variables I pass into the constructor reflect this.\n",
    "\n",
    "2 instances variables are created:\n",
    "\n",
    "`self.mass_list`: Mass of the events - initialized directly from mass list that was passed in\n",
    "\n",
    "`self.event_list`: Jet particle 4-vectors - initialized directly from event list that was passed in"
   ]
  },
  {
   "cell_type": "code",
   "execution_count": 12,
   "metadata": {},
   "outputs": [],
   "source": [
    "CMS_20p_mass_dist_2jet = MassDistribution.MassDistribution(CMS_20p_dist.event_mass_2jet, CMS_20p_dist.event_list_2)"
   ]
  },
  {
   "cell_type": "markdown",
   "metadata": {},
   "source": [
    "This function divides the events into different bins according to their mass. It accepts two parameters: the size of the mass bins, and the mimimum cutoff for the number of events that need to be in each mass bin.\n",
    "\n",
    "2 instance variables are created:\n",
    "\n",
    "`self.mass_ranges`: Ranges of mass for the bins that make the event cutoff\n",
    "\n",
    "`self.event_mass_bins`: Jet particle 4-vectors for each bin that makes the event cutoff"
   ]
  },
  {
   "cell_type": "code",
   "execution_count": 13,
   "metadata": {},
   "outputs": [],
   "source": [
    "CMS_20p_mass_dist_2jet.divide_mass_bins(100, 3000)"
   ]
  },
  {
   "cell_type": "markdown",
   "metadata": {},
   "source": [
    "Show mass ranges that made the event cutoff."
   ]
  },
  {
   "cell_type": "code",
   "execution_count": 14,
   "metadata": {},
   "outputs": [
    {
     "data": {
      "text/plain": [
       "[[664.6749684373561, 764.6749684373561],\n",
       " [764.6749684373561, 864.6749684373561],\n",
       " [864.6749684373561, 964.6749684373561],\n",
       " [964.6749684373561, 1064.6749684373563],\n",
       " [1064.6749684373563, 1164.6749684373563]]"
      ]
     },
     "execution_count": 14,
     "metadata": {},
     "output_type": "execute_result"
    }
   ],
   "source": [
    "CMS_20p_mass_dist_2jet.get_mass_ranges()"
   ]
  },
  {
   "cell_type": "markdown",
   "metadata": {},
   "source": [
    "Get the number of events in each bin."
   ]
  },
  {
   "cell_type": "code",
   "execution_count": 15,
   "metadata": {},
   "outputs": [
    {
     "name": "stdout",
     "output_type": "stream",
     "text": [
      "5836\n",
      "23041\n",
      "9844\n",
      "5608\n",
      "3540\n"
     ]
    }
   ],
   "source": [
    "bins = CMS_20p_mass_dist_2jet.event_mass_bins\n",
    "for bin in bins:\n",
    "    print(len(bin))"
   ]
  },
  {
   "cell_type": "markdown",
   "metadata": {},
   "source": [
    "Extracts the jets from each event and groups them by mass bin (instead of by event). 1 new instance variable is created:\n",
    "\n",
    "`self.jet_mass_bins`: Jet particle 4-vectors, grouped by event mass bin."
   ]
  },
  {
   "cell_type": "code",
   "execution_count": 16,
   "metadata": {},
   "outputs": [],
   "source": [
    "CMS_20p_mass_dist_2jet.extract_jets_into_mass_bins()"
   ]
  },
  {
   "cell_type": "markdown",
   "metadata": {},
   "source": [
    "Cycles through each jet mass bin and pads the jet arrays so the PFN classifier will accept them. Accepts 1 parameter: the number of particles that each jet should have after padding. This number needs to be >= the largest number of particles a jet has in the dataset.\n",
    "\n",
    "1 new instance variable is created:\n",
    "\n",
    "`self.padded_jet_arrays`: Jet particle 4-vectors, padded and grouped by event mass bin."
   ]
  },
  {
   "cell_type": "code",
   "execution_count": 17,
   "metadata": {},
   "outputs": [],
   "source": [
    "CMS_20p_mass_dist_2jet.pad_jet_arrays(160)"
   ]
  },
  {
   "cell_type": "markdown",
   "metadata": {},
   "source": [
    "The actual AUC calculations are done by a different class in particledist: PFNDist."
   ]
  },
  {
   "cell_type": "code",
   "execution_count": 18,
   "metadata": {},
   "outputs": [
    {
     "name": "stderr",
     "output_type": "stream",
     "text": [
      "Using TensorFlow backend.\n"
     ]
    }
   ],
   "source": [
    "from particledist import PFNDist"
   ]
  },
  {
   "cell_type": "markdown",
   "metadata": {},
   "source": [
    "Creates a new PFNDist object. Accepts 1 parameter: the padded arrays containing the jet particle 4-vectors, grouped by event mass bin.\n",
    "\n",
    "1 instance variable is created:\n",
    "\n",
    "`self.padded_jet_arrays`: Jet particle 4-vectors, padded and grouped by event mass bin. Initialized directly from input."
   ]
  },
  {
   "cell_type": "code",
   "execution_count": 19,
   "metadata": {},
   "outputs": [],
   "source": [
    "CMS_20p_PFN_dist_2jet = PFNDist.PFNDist(CMS_20p_mass_dist_2jet.padded_jet_arrays)"
   ]
  },
  {
   "cell_type": "markdown",
   "metadata": {},
   "source": [
    "Generates AUC scores by cycling through bins. For example, if I had 5 bins, I would get 4 AUC scores from combining bins in the following way: bin 1 and bin 2, bin 2 and bin 3, bin 3 and bin 4, bin 4 and bin 5. AUC scores are stored in instance variable called `self.AUC_scores`."
   ]
  },
  {
   "cell_type": "code",
   "execution_count": 23,
   "metadata": {},
   "outputs": [
    {
     "name": "stdout",
     "output_type": "stream",
     "text": [
      "Loaded quark and gluon jets\n",
      "Finished preprocessing\n",
      "Done train/val/test split\n",
      "Model summary:\n",
      "Model: \"model_10\"\n",
      "__________________________________________________________________________________________________\n",
      "Layer (type)                    Output Shape         Param #     Connected to                     \n",
      "==================================================================================================\n",
      "input (InputLayer)              (None, None, 4)      0                                            \n",
      "__________________________________________________________________________________________________\n",
      "tdist_0 (TimeDistributed)       (None, None, 100)    500         input[0][0]                      \n",
      "__________________________________________________________________________________________________\n",
      "activation_64 (Activation)      (None, None, 100)    0           tdist_0[0][0]                    \n",
      "__________________________________________________________________________________________________\n",
      "tdist_1 (TimeDistributed)       (None, None, 100)    10100       activation_64[0][0]              \n",
      "__________________________________________________________________________________________________\n",
      "activation_65 (Activation)      (None, None, 100)    0           tdist_1[0][0]                    \n",
      "__________________________________________________________________________________________________\n",
      "tdist_2 (TimeDistributed)       (None, None, 128)    12928       activation_65[0][0]              \n",
      "__________________________________________________________________________________________________\n",
      "mask (Lambda)                   (None, None)         0           input[0][0]                      \n",
      "__________________________________________________________________________________________________\n",
      "activation_66 (Activation)      (None, None, 128)    0           tdist_2[0][0]                    \n",
      "__________________________________________________________________________________________________\n",
      "sum (Dot)                       (None, 128)          0           mask[0][0]                       \n",
      "                                                                 activation_66[0][0]              \n",
      "__________________________________________________________________________________________________\n",
      "dense_0 (Dense)                 (None, 100)          12900       sum[0][0]                        \n",
      "__________________________________________________________________________________________________\n",
      "activation_67 (Activation)      (None, 100)          0           dense_0[0][0]                    \n",
      "__________________________________________________________________________________________________\n",
      "dense_1 (Dense)                 (None, 100)          10100       activation_67[0][0]              \n",
      "__________________________________________________________________________________________________\n",
      "activation_68 (Activation)      (None, 100)          0           dense_1[0][0]                    \n",
      "__________________________________________________________________________________________________\n",
      "dense_2 (Dense)                 (None, 100)          10100       activation_68[0][0]              \n",
      "__________________________________________________________________________________________________\n",
      "activation_69 (Activation)      (None, 100)          0           dense_2[0][0]                    \n",
      "__________________________________________________________________________________________________\n",
      "output (Dense)                  (None, 2)            202         activation_69[0][0]              \n",
      "__________________________________________________________________________________________________\n",
      "activation_70 (Activation)      (None, 2)            0           output[0][0]                     \n",
      "==================================================================================================\n",
      "Total params: 56,830\n",
      "Trainable params: 56,830\n",
      "Non-trainable params: 0\n",
      "__________________________________________________________________________________________________\n",
      "Train on 14296 samples, validate on 40458 samples\n",
      "Epoch 1/10\n",
      "14296/14296 [==============================] - 2s 163us/step - loss: 0.8863 - acc: 0.7419 - val_loss: 0.5384 - val_acc: 0.7962\n",
      "Epoch 2/10\n",
      "14296/14296 [==============================] - 2s 115us/step - loss: 0.5109 - acc: 0.8004 - val_loss: 0.5104 - val_acc: 0.7962\n",
      "Epoch 3/10\n",
      "14296/14296 [==============================] - 2s 116us/step - loss: 0.5126 - acc: 0.8004 - val_loss: 0.5132 - val_acc: 0.7962\n",
      "Epoch 4/10\n",
      "14296/14296 [==============================] - 2s 115us/step - loss: 0.5046 - acc: 0.8004 - val_loss: 0.5062 - val_acc: 0.7962\n",
      "Epoch 5/10\n",
      "14296/14296 [==============================] - 2s 116us/step - loss: 0.5033 - acc: 0.8004 - val_loss: 0.5137 - val_acc: 0.7962\n",
      "Epoch 6/10\n",
      "14296/14296 [==============================] - 2s 115us/step - loss: 0.5021 - acc: 0.8004 - val_loss: 0.5060 - val_acc: 0.7962\n",
      "Epoch 7/10\n",
      "14296/14296 [==============================] - 2s 116us/step - loss: 0.5014 - acc: 0.8004 - val_loss: 0.5150 - val_acc: 0.7962\n",
      "Epoch 8/10\n",
      "14296/14296 [==============================] - 2s 115us/step - loss: 0.5002 - acc: 0.8004 - val_loss: 0.5064 - val_acc: 0.7962\n",
      "Epoch 9/10\n",
      "14296/14296 [==============================] - 2s 115us/step - loss: 0.5016 - acc: 0.8004 - val_loss: 0.5058 - val_acc: 0.7962\n",
      "Epoch 10/10\n",
      "14296/14296 [==============================] - 2s 115us/step - loss: 0.5002 - acc: 0.8004 - val_loss: 0.5087 - val_acc: 0.7962\n",
      "Loaded quark and gluon jets\n",
      "Finished preprocessing\n",
      "Done train/val/test split\n",
      "Model summary:\n",
      "Model: \"model_11\"\n",
      "__________________________________________________________________________________________________\n",
      "Layer (type)                    Output Shape         Param #     Connected to                     \n",
      "==================================================================================================\n",
      "input (InputLayer)              (None, None, 4)      0                                            \n",
      "__________________________________________________________________________________________________\n",
      "tdist_0 (TimeDistributed)       (None, None, 100)    500         input[0][0]                      \n",
      "__________________________________________________________________________________________________\n",
      "activation_71 (Activation)      (None, None, 100)    0           tdist_0[0][0]                    \n",
      "__________________________________________________________________________________________________\n",
      "tdist_1 (TimeDistributed)       (None, None, 100)    10100       activation_71[0][0]              \n",
      "__________________________________________________________________________________________________\n",
      "activation_72 (Activation)      (None, None, 100)    0           tdist_1[0][0]                    \n",
      "__________________________________________________________________________________________________\n",
      "tdist_2 (TimeDistributed)       (None, None, 128)    12928       activation_72[0][0]              \n",
      "__________________________________________________________________________________________________\n",
      "mask (Lambda)                   (None, None)         0           input[0][0]                      \n",
      "__________________________________________________________________________________________________\n",
      "activation_73 (Activation)      (None, None, 128)    0           tdist_2[0][0]                    \n",
      "__________________________________________________________________________________________________\n",
      "sum (Dot)                       (None, 128)          0           mask[0][0]                       \n",
      "                                                                 activation_73[0][0]              \n",
      "__________________________________________________________________________________________________\n",
      "dense_0 (Dense)                 (None, 100)          12900       sum[0][0]                        \n",
      "__________________________________________________________________________________________________\n",
      "activation_74 (Activation)      (None, 100)          0           dense_0[0][0]                    \n",
      "__________________________________________________________________________________________________\n",
      "dense_1 (Dense)                 (None, 100)          10100       activation_74[0][0]              \n",
      "__________________________________________________________________________________________________\n",
      "activation_75 (Activation)      (None, 100)          0           dense_1[0][0]                    \n",
      "__________________________________________________________________________________________________\n",
      "dense_2 (Dense)                 (None, 100)          10100       activation_75[0][0]              \n",
      "__________________________________________________________________________________________________\n",
      "activation_76 (Activation)      (None, 100)          0           dense_2[0][0]                    \n",
      "__________________________________________________________________________________________________\n",
      "output (Dense)                  (None, 2)            202         activation_76[0][0]              \n",
      "__________________________________________________________________________________________________\n",
      "activation_77 (Activation)      (None, 2)            0           output[0][0]                     \n",
      "==================================================================================================\n",
      "Total params: 56,830\n",
      "Trainable params: 56,830\n",
      "Non-trainable params: 0\n",
      "__________________________________________________________________________________________________\n",
      "Train on 14296 samples, validate on 48474 samples\n",
      "Epoch 1/10\n",
      "14296/14296 [==============================] - 2s 174us/step - loss: 1.0404 - acc: 0.6361 - val_loss: 0.6212 - val_acc: 0.7001\n",
      "Epoch 2/10\n",
      "14296/14296 [==============================] - 2s 128us/step - loss: 0.6217 - acc: 0.6946 - val_loss: 0.6144 - val_acc: 0.7005\n",
      "Epoch 3/10\n",
      "14296/14296 [==============================] - 2s 127us/step - loss: 0.6222 - acc: 0.6917 - val_loss: 0.6106 - val_acc: 0.7020\n",
      "Epoch 4/10\n",
      "14296/14296 [==============================] - 2s 128us/step - loss: 0.6205 - acc: 0.6943 - val_loss: 0.6236 - val_acc: 0.6953\n",
      "Epoch 5/10\n",
      "14296/14296 [==============================] - 2s 127us/step - loss: 0.6183 - acc: 0.6929 - val_loss: 0.6099 - val_acc: 0.7021\n",
      "Epoch 6/10\n",
      "14296/14296 [==============================] - 2s 128us/step - loss: 0.6175 - acc: 0.6942 - val_loss: 0.6100 - val_acc: 0.7021\n",
      "Epoch 7/10\n",
      "14296/14296 [==============================] - 2s 127us/step - loss: 0.6183 - acc: 0.6949 - val_loss: 0.6104 - val_acc: 0.7020\n",
      "Epoch 8/10\n",
      "14296/14296 [==============================] - 2s 128us/step - loss: 0.6239 - acc: 0.6929 - val_loss: 0.6360 - val_acc: 0.6780\n",
      "Epoch 9/10\n",
      "14296/14296 [==============================] - 2s 126us/step - loss: 0.6184 - acc: 0.6933 - val_loss: 0.6102 - val_acc: 0.7022\n",
      "Epoch 10/10\n",
      "14296/14296 [==============================] - 2s 128us/step - loss: 0.6212 - acc: 0.6931 - val_loss: 0.6253 - val_acc: 0.7022\n",
      "Loaded quark and gluon jets\n",
      "Finished preprocessing\n",
      "Done train/val/test split\n",
      "Model summary:\n",
      "Model: \"model_12\"\n",
      "__________________________________________________________________________________________________\n",
      "Layer (type)                    Output Shape         Param #     Connected to                     \n",
      "==================================================================================================\n",
      "input (InputLayer)              (None, None, 4)      0                                            \n",
      "__________________________________________________________________________________________________\n",
      "tdist_0 (TimeDistributed)       (None, None, 100)    500         input[0][0]                      \n",
      "__________________________________________________________________________________________________\n",
      "activation_78 (Activation)      (None, None, 100)    0           tdist_0[0][0]                    \n",
      "__________________________________________________________________________________________________\n",
      "tdist_1 (TimeDistributed)       (None, None, 100)    10100       activation_78[0][0]              \n",
      "__________________________________________________________________________________________________\n",
      "activation_79 (Activation)      (None, None, 100)    0           tdist_1[0][0]                    \n",
      "__________________________________________________________________________________________________\n",
      "tdist_2 (TimeDistributed)       (None, None, 128)    12928       activation_79[0][0]              \n",
      "__________________________________________________________________________________________________\n",
      "mask (Lambda)                   (None, None)         0           input[0][0]                      \n",
      "__________________________________________________________________________________________________\n",
      "activation_80 (Activation)      (None, None, 128)    0           tdist_2[0][0]                    \n",
      "__________________________________________________________________________________________________\n",
      "sum (Dot)                       (None, 128)          0           mask[0][0]                       \n",
      "                                                                 activation_80[0][0]              \n",
      "__________________________________________________________________________________________________\n",
      "dense_0 (Dense)                 (None, 100)          12900       sum[0][0]                        \n",
      "__________________________________________________________________________________________________\n",
      "activation_81 (Activation)      (None, 100)          0           dense_0[0][0]                    \n",
      "__________________________________________________________________________________________________\n",
      "dense_1 (Dense)                 (None, 100)          10100       activation_81[0][0]              \n",
      "__________________________________________________________________________________________________\n",
      "activation_82 (Activation)      (None, 100)          0           dense_1[0][0]                    \n",
      "__________________________________________________________________________________________________\n",
      "dense_2 (Dense)                 (None, 100)          10100       activation_82[0][0]              \n",
      "__________________________________________________________________________________________________\n",
      "activation_83 (Activation)      (None, 100)          0           dense_2[0][0]                    \n",
      "__________________________________________________________________________________________________\n",
      "output (Dense)                  (None, 2)            202         activation_83[0][0]              \n",
      "__________________________________________________________________________________________________\n",
      "activation_84 (Activation)      (None, 2)            0           output[0][0]                     \n",
      "==================================================================================================\n",
      "Total params: 56,830\n",
      "Trainable params: 56,830\n",
      "Non-trainable params: 0\n",
      "__________________________________________________________________________________________________\n",
      "Train on 14296 samples, validate on 13608 samples\n",
      "Epoch 1/10\n",
      "14296/14296 [==============================] - 2s 120us/step - loss: 0.8067 - acc: 0.5779 - val_loss: 0.6895 - val_acc: 0.5403\n",
      "Epoch 2/10\n",
      "14296/14296 [==============================] - 1s 76us/step - loss: 0.6610 - acc: 0.6359 - val_loss: 0.6628 - val_acc: 0.6279\n",
      "Epoch 3/10\n",
      "14296/14296 [==============================] - 1s 76us/step - loss: 0.6594 - acc: 0.6396 - val_loss: 0.6733 - val_acc: 0.6008\n",
      "Epoch 4/10\n",
      "14296/14296 [==============================] - 1s 77us/step - loss: 0.6603 - acc: 0.6356 - val_loss: 0.6650 - val_acc: 0.6308\n",
      "Epoch 5/10\n",
      "14296/14296 [==============================] - 1s 76us/step - loss: 0.6536 - acc: 0.6399 - val_loss: 0.6609 - val_acc: 0.6299\n",
      "Epoch 6/10\n",
      "14296/14296 [==============================] - 1s 76us/step - loss: 0.6577 - acc: 0.6372 - val_loss: 0.6912 - val_acc: 0.5495\n",
      "Epoch 7/10\n",
      "14296/14296 [==============================] - 1s 76us/step - loss: 0.6678 - acc: 0.6255 - val_loss: 0.6746 - val_acc: 0.5939\n",
      "Epoch 8/10\n",
      "14296/14296 [==============================] - 1s 76us/step - loss: 0.6569 - acc: 0.6377 - val_loss: 0.6766 - val_acc: 0.6308\n",
      "Epoch 9/10\n",
      "14296/14296 [==============================] - 1s 76us/step - loss: 0.6609 - acc: 0.6365 - val_loss: 0.6740 - val_acc: 0.5988\n",
      "Epoch 10/10\n",
      "14296/14296 [==============================] - 1s 76us/step - loss: 0.6611 - acc: 0.6337 - val_loss: 0.6726 - val_acc: 0.6308\n",
      "Loaded quark and gluon jets\n",
      "Finished preprocessing\n",
      "Done train/val/test split\n",
      "Model summary:\n",
      "Model: \"model_13\"\n",
      "__________________________________________________________________________________________________\n",
      "Layer (type)                    Output Shape         Param #     Connected to                     \n",
      "==================================================================================================\n",
      "input (InputLayer)              (None, None, 4)      0                                            \n",
      "__________________________________________________________________________________________________\n",
      "tdist_0 (TimeDistributed)       (None, None, 100)    500         input[0][0]                      \n",
      "__________________________________________________________________________________________________\n",
      "activation_85 (Activation)      (None, None, 100)    0           tdist_0[0][0]                    \n",
      "__________________________________________________________________________________________________\n",
      "tdist_1 (TimeDistributed)       (None, None, 100)    10100       activation_85[0][0]              \n",
      "__________________________________________________________________________________________________\n",
      "activation_86 (Activation)      (None, None, 100)    0           tdist_1[0][0]                    \n",
      "__________________________________________________________________________________________________\n",
      "tdist_2 (TimeDistributed)       (None, None, 128)    12928       activation_86[0][0]              \n",
      "__________________________________________________________________________________________________\n",
      "mask (Lambda)                   (None, None)         0           input[0][0]                      \n",
      "__________________________________________________________________________________________________\n",
      "activation_87 (Activation)      (None, None, 128)    0           tdist_2[0][0]                    \n",
      "__________________________________________________________________________________________________\n",
      "sum (Dot)                       (None, 128)          0           mask[0][0]                       \n",
      "                                                                 activation_87[0][0]              \n",
      "__________________________________________________________________________________________________\n",
      "dense_0 (Dense)                 (None, 100)          12900       sum[0][0]                        \n",
      "__________________________________________________________________________________________________\n",
      "activation_88 (Activation)      (None, 100)          0           dense_0[0][0]                    \n",
      "__________________________________________________________________________________________________\n",
      "dense_1 (Dense)                 (None, 100)          10100       activation_88[0][0]              \n",
      "__________________________________________________________________________________________________\n",
      "activation_89 (Activation)      (None, 100)          0           dense_1[0][0]                    \n",
      "__________________________________________________________________________________________________\n",
      "dense_2 (Dense)                 (None, 100)          10100       activation_89[0][0]              \n",
      "__________________________________________________________________________________________________\n",
      "activation_90 (Activation)      (None, 100)          0           dense_2[0][0]                    \n",
      "__________________________________________________________________________________________________\n",
      "output (Dense)                  (None, 2)            202         activation_90[0][0]              \n",
      "__________________________________________________________________________________________________\n",
      "activation_91 (Activation)      (None, 2)            0           output[0][0]                     \n",
      "==================================================================================================\n",
      "Total params: 56,830\n",
      "Trainable params: 56,830\n",
      "Non-trainable params: 0\n",
      "__________________________________________________________________________________________________\n",
      "Train on 14296 samples, validate on 1000 samples\n",
      "Epoch 1/10\n",
      "14296/14296 [==============================] - 2s 112us/step - loss: 1.0735 - acc: 0.5423 - val_loss: 0.6654 - val_acc: 0.6280\n",
      "Epoch 2/10\n",
      "14296/14296 [==============================] - 1s 56us/step - loss: 0.6758 - acc: 0.6089 - val_loss: 0.6624 - val_acc: 0.6260\n",
      "Epoch 3/10\n",
      "14296/14296 [==============================] - 1s 57us/step - loss: 0.6723 - acc: 0.6054 - val_loss: 0.6612 - val_acc: 0.6280\n",
      "Epoch 4/10\n",
      "14296/14296 [==============================] - 1s 57us/step - loss: 0.6722 - acc: 0.6070 - val_loss: 0.6653 - val_acc: 0.6190\n",
      "Epoch 5/10\n",
      "14296/14296 [==============================] - 1s 57us/step - loss: 0.6752 - acc: 0.6017 - val_loss: 0.6724 - val_acc: 0.6210\n",
      "Epoch 6/10\n",
      "14296/14296 [==============================] - 1s 57us/step - loss: 0.6709 - acc: 0.6083 - val_loss: 0.6679 - val_acc: 0.6160\n",
      "Epoch 7/10\n",
      "14296/14296 [==============================] - 1s 57us/step - loss: 0.6712 - acc: 0.6078 - val_loss: 0.6614 - val_acc: 0.6280\n",
      "Epoch 8/10\n",
      "14296/14296 [==============================] - 1s 57us/step - loss: 0.6690 - acc: 0.6104 - val_loss: 0.6633 - val_acc: 0.6280\n",
      "Epoch 9/10\n",
      "14296/14296 [==============================] - 1s 57us/step - loss: 0.6693 - acc: 0.6102 - val_loss: 0.6615 - val_acc: 0.6280\n",
      "Epoch 10/10\n",
      "14296/14296 [==============================] - 1s 56us/step - loss: 0.6693 - acc: 0.6094 - val_loss: 0.6608 - val_acc: 0.6250\n"
     ]
    }
   ],
   "source": [
    "CMS_20p_PFN_dist_2jet_AUC_scores = CMS_20p_PFN_dist_2jet.generate_AUCs(14296, 3000)"
   ]
  },
  {
   "cell_type": "markdown",
   "metadata": {},
   "source": [
    "View AUC scores. They all seem close to 0.5, which is what we are looking "
   ]
  },
  {
   "cell_type": "code",
   "execution_count": 24,
   "metadata": {},
   "outputs": [
    {
     "data": {
      "text/plain": [
       "[0.5225245669015399,\n",
       " 0.5010987397996953,\n",
       " 0.46578196860682736,\n",
       " 0.5062779062331813]"
      ]
     },
     "execution_count": 24,
     "metadata": {},
     "output_type": "execute_result"
    }
   ],
   "source": [
    "CMS_20p_PFN_dist_2jet_AUC_scores"
   ]
  },
  {
   "cell_type": "markdown",
   "metadata": {},
   "source": [
    "**Signal Injection (still working on getting this part of the library working)**"
   ]
  },
  {
   "cell_type": "code",
   "execution_count": 26,
   "metadata": {},
   "outputs": [
    {
     "ename": "SyntaxError",
     "evalue": "invalid syntax (SignalInjectionTwoGluons.py, line 31)",
     "output_type": "error",
     "traceback": [
      "Traceback \u001b[0;36m(most recent call last)\u001b[0m:\n",
      "  File \u001b[1;32m\"/usr/local/lib/python3.5/dist-packages/IPython/core/interactiveshell.py\"\u001b[0m, line \u001b[1;32m3326\u001b[0m, in \u001b[1;35mrun_code\u001b[0m\n    exec(code_obj, self.user_global_ns, self.user_ns)\n",
      "\u001b[0;36m  File \u001b[0;32m\"<ipython-input-26-7a6c0db23360>\"\u001b[0;36m, line \u001b[0;32m1\u001b[0;36m, in \u001b[0;35m<module>\u001b[0;36m\u001b[0m\n\u001b[0;31m    from particledist import SignalInjectionTwoGluons\u001b[0m\n",
      "\u001b[0;36m  File \u001b[0;32m\"/home/jupyter/.local/lib/python3.5/site-packages/particledist/SignalInjectionTwoGluons.py\"\u001b[0;36m, line \u001b[0;32m31\u001b[0m\n\u001b[0;31m    gluon_events = new MassDistribution(self.mass_list_2_gluons, self.event_list_2_gluons)\u001b[0m\n\u001b[0m                                      ^\u001b[0m\n\u001b[0;31mSyntaxError\u001b[0m\u001b[0;31m:\u001b[0m invalid syntax\n"
     ]
    }
   ],
   "source": [
    "from particledist import SignalInjectionTwoGluons"
   ]
  },
  {
   "cell_type": "code",
   "execution_count": 25,
   "metadata": {},
   "outputs": [
    {
     "ename": "NameError",
     "evalue": "name 'SignalInjectionTwoGluons' is not defined",
     "output_type": "error",
     "traceback": [
      "\u001b[0;31m---------------------------------------------------------------------------\u001b[0m",
      "\u001b[0;31mNameError\u001b[0m                                 Traceback (most recent call last)",
      "\u001b[0;32m<ipython-input-25-08524eb65270>\u001b[0m in \u001b[0;36m<module>\u001b[0;34m\u001b[0m\n\u001b[0;32m----> 1\u001b[0;31m \u001b[0mCMS_20p_PFN_Sig_Inj\u001b[0m \u001b[0;34m=\u001b[0m \u001b[0mSignalInjectionTwoGluons\u001b[0m\u001b[0;34m(\u001b[0m\u001b[0mCMS_20p_dist\u001b[0m\u001b[0;34m.\u001b[0m\u001b[0mevent_mass_2jet\u001b[0m\u001b[0;34m,\u001b[0m \u001b[0mCMS_20p_dist\u001b[0m\u001b[0;34m.\u001b[0m\u001b[0mevent_jet_labels_2\u001b[0m\u001b[0;34m,\u001b[0m \u001b[0mCMS_20p_dist\u001b[0m\u001b[0;34m.\u001b[0m\u001b[0mevent_list_2\u001b[0m\u001b[0;34m,\u001b[0m \u001b[0;36m100\u001b[0m\u001b[0;34m)\u001b[0m\u001b[0;34m\u001b[0m\u001b[0m\n\u001b[0m",
      "\u001b[0;31mNameError\u001b[0m: name 'SignalInjectionTwoGluons' is not defined"
     ]
    }
   ],
   "source": [
    "CMS_20p_PFN_Sig_Inj = SignalInjectionTwoGluons(CMS_20p_dist.event_mass_2jet, CMS_20p_dist.event_jet_labels_2, CMS_20p_dist.event_list_2, 100)"
   ]
  },
  {
   "cell_type": "code",
   "execution_count": null,
   "metadata": {},
   "outputs": [],
   "source": [
    "CMS_20p_PFN_Sig_Inj.filter_gluon_events()"
   ]
  },
  {
   "cell_type": "code",
   "execution_count": null,
   "metadata": {},
   "outputs": [],
   "source": [
    "CMS_20p_PFN_Sig_Inj.sort_gluon_events()"
   ]
  },
  {
   "cell_type": "code",
   "execution_count": null,
   "metadata": {},
   "outputs": [],
   "source": [
    "bin_700_800_gluon_events = CMS_20p_PFN_Sig_Inj.get_gluon_events_in_bin(arg)"
   ]
  }
 ],
 "metadata": {
  "kernelspec": {
   "display_name": "Python 3",
   "language": "python",
   "name": "python3"
  },
  "language_info": {
   "codemirror_mode": {
    "name": "ipython",
    "version": 3
   },
   "file_extension": ".py",
   "mimetype": "text/x-python",
   "name": "python",
   "nbconvert_exporter": "python",
   "pygments_lexer": "ipython3",
   "version": "3.5.3"
  }
 },
 "nbformat": 4,
 "nbformat_minor": 4
}
