{
 "cells": [
  {
   "cell_type": "markdown",
   "metadata": {},
   "source": [
    "Import the necessary libraries"
   ]
  },
  {
   "cell_type": "code",
   "execution_count": 1,
   "metadata": {},
   "outputs": [
    {
     "name": "stderr",
     "output_type": "stream",
     "text": [
      "Using TensorFlow backend.\n",
      "/opt/apps/rhel7/Python-GPU-3.6.5/lib/python3.6/site-packages/tensorflow/python/framework/dtypes.py:523: FutureWarning: Passing (type, 1) or '1type' as a synonym of type is deprecated; in a future version of numpy, it will be understood as (type, (1,)) / '(1,)type'.\n",
      "  _np_qint8 = np.dtype([(\"qint8\", np.int8, 1)])\n",
      "/opt/apps/rhel7/Python-GPU-3.6.5/lib/python3.6/site-packages/tensorflow/python/framework/dtypes.py:524: FutureWarning: Passing (type, 1) or '1type' as a synonym of type is deprecated; in a future version of numpy, it will be understood as (type, (1,)) / '(1,)type'.\n",
      "  _np_quint8 = np.dtype([(\"quint8\", np.uint8, 1)])\n",
      "/opt/apps/rhel7/Python-GPU-3.6.5/lib/python3.6/site-packages/tensorflow/python/framework/dtypes.py:525: FutureWarning: Passing (type, 1) or '1type' as a synonym of type is deprecated; in a future version of numpy, it will be understood as (type, (1,)) / '(1,)type'.\n",
      "  _np_qint16 = np.dtype([(\"qint16\", np.int16, 1)])\n",
      "/opt/apps/rhel7/Python-GPU-3.6.5/lib/python3.6/site-packages/tensorflow/python/framework/dtypes.py:526: FutureWarning: Passing (type, 1) or '1type' as a synonym of type is deprecated; in a future version of numpy, it will be understood as (type, (1,)) / '(1,)type'.\n",
      "  _np_quint16 = np.dtype([(\"quint16\", np.uint16, 1)])\n",
      "/opt/apps/rhel7/Python-GPU-3.6.5/lib/python3.6/site-packages/tensorflow/python/framework/dtypes.py:527: FutureWarning: Passing (type, 1) or '1type' as a synonym of type is deprecated; in a future version of numpy, it will be understood as (type, (1,)) / '(1,)type'.\n",
      "  _np_qint32 = np.dtype([(\"qint32\", np.int32, 1)])\n",
      "/opt/apps/rhel7/Python-GPU-3.6.5/lib/python3.6/site-packages/tensorflow/python/framework/dtypes.py:532: FutureWarning: Passing (type, 1) or '1type' as a synonym of type is deprecated; in a future version of numpy, it will be understood as (type, (1,)) / '(1,)type'.\n",
      "  np_resource = np.dtype([(\"resource\", np.ubyte, 1)])\n"
     ]
    }
   ],
   "source": [
    "# Standard library imports\n",
    "from __future__ import absolute_import, division, print_function\n",
    "from time import process_time\n",
    "import energyflow as ef\n",
    "import numpy as np\n",
    "import matplotlib.pyplot as plt\n",
    "import random\n",
    "import statistics\n",
    "\n",
    "# Particledist library imports\n",
    "from particledist import ParticleDistributionCMSEfficient\n",
    "from particledist import MassDistribution\n",
    "from particledist import PFNDist\n",
    "\n",
    "#Import processing time function\n",
    "from time import process_time"
   ]
  },
  {
   "cell_type": "markdown",
   "metadata": {},
   "source": [
    "Define a helper function to divide up samples and get the AUC scores for each sample"
   ]
  },
  {
   "cell_type": "code",
   "execution_count": 2,
   "metadata": {},
   "outputs": [],
   "source": [
    "#Inputs: (list of event masses, event info on the particle level, size of each sample in events, number of samples)\n",
    "#Ouputs: matrix of AUC scores. Dimensions: (num_samples, num_bins-1), where num_bins is # of bins in histogram\n",
    "\n",
    "def generate_AUCs_from_sample(mass_list, event_list, sample_size, num_samples):\n",
    "    index_list = range(0, len(mass_list))\n",
    "    AUC_scores = []\n",
    "\n",
    "    for i in range(num_samples): # Repeat num_sample times\n",
    "        \n",
    "        #Take a random sample of 50,000 events. Find the corresponding masses and event info\n",
    "        sample_index = random.sample(index_list, sample_size)\n",
    "        sample_masses = [mass_list[i] for i in sample_index]\n",
    "        sample_events = [event_list[i] for i in sample_index]\n",
    "        \n",
    "        #Create histogram out of 50,000 events, extract jet data, and pad the jet data arrays\n",
    "        sample_mass_dist = MassDistribution.MassDistribution(sample_masses, sample_events)\n",
    "        sample_mass_dist.divide_mass_bins(100, 3000)\n",
    "        sample_mass_dist.extract_jets_into_mass_bins()\n",
    "        sample_mass_dist.pad_jet_arrays(160)\n",
    "        \n",
    "        #Generate AUC scores for the histogram, append to AUC_score matrix\n",
    "        sample_PFN_dist = PFNDist.PFNDist(sample_mass_dist.padded_jet_arrays)\n",
    "        sample_PFN_dist_AUC_scores = sample_PFN_dist.generate_AUCs(12000, 3000)\n",
    "        AUC_scores.append(sample_PFN_dist_AUC_scores)\n",
    "\n",
    "    return AUC_scores"
   ]
  },
  {
   "cell_type": "markdown",
   "metadata": {},
   "source": [
    "Load jets, sort by event, keep only 2-jet events, and calculate event masses"
   ]
  },
  {
   "cell_type": "code",
   "execution_count": 3,
   "metadata": {},
   "outputs": [
    {
     "name": "stdout",
     "output_type": "stream",
     "text": [
      "Number of jets:  2962176\n",
      "Max:  155.7694702\n",
      "Min:  3.663904428\n",
      "Elapsed time while loading events, in seconds: 968.873254824\n",
      "\n",
      "Starting event processing\n",
      "Event processing finished\n",
      "Starting 4-vector conversion\n",
      "4-vector conversion finished\n",
      "Elapsed time during event and 4-vector parsing in seconds: 87.136670041\n"
     ]
    }
   ],
   "source": [
    "t1_start = process_time() #Start timing the process\n",
    "\n",
    "# Transverse momentum, jet etas, and quality specs below\n",
    "specs = ['350 <= corr_jet_pts <= 450', 'abs_jet_eta < 1.9', 'quality >= 2']\n",
    "\n",
    "amount = 0.8 # Sets 4/5 of the dataset to be loaded, about 3 million jets total\n",
    "\n",
    "sim = ef.mod.load(*specs, dataset='sim', amount=amount) # Actually loads the jet data with given specs and amount\n",
    "\n",
    "# Prints info about the number of jets, the max jet mass, and the min jet mass, to check the jets loaded correctly\n",
    "'''\n",
    "My output:\n",
    "Number of jets:  2962176\n",
    "Max:  155.7694702\n",
    "Min:  3.663904428\n",
    "'''\n",
    "print(\"Number of jets: \", len(sim))\n",
    "print(\"Max: \", np.amax(sim.jet_ms))\n",
    "print(\"Min: \", np.amin(sim.jet_ms))\n",
    "\n",
    "t1_stop = process_time() # Stop timing the process \n",
    "\n",
    "# Prints the time it took to load the jets -- should take about 20 minutes with 8 vCPUs\n",
    "print(\"Elapsed time while loading events, in seconds:\", t1_stop-t1_start)\n",
    "\n",
    "print()\n",
    "\n",
    "#Complete data pre-processing (group jets by event, choose 2-jet events, and calculate mass)\n",
    "CMS_80p_dist = ParticleDistributionCMSEfficient.ParticleDistributionCMSEfficient(sim)\n",
    "CMS_80p_dist.choose_2jet_events()\n",
    "CMS_80p_dist.add_event4vectors_2jet()\n",
    "CMS_80p_dist.event_mass_2jet()"
   ]
  },
  {
   "cell_type": "markdown",
   "metadata": {},
   "source": [
    "Check event mass distribution across all 2-jet events. Distribution should look normal, with a slight right tail"
   ]
  },
  {
   "cell_type": "code",
   "execution_count": 4,
   "metadata": {},
   "outputs": [
    {
     "data": {
      "image/png": "[encoded data removed]",
      "text/plain": [
       "<matplotlib.figure.Figure at 0x7f3efe673d30>"
      ]
     },
     "metadata": {},
     "output_type": "display_data"
    }
   ],
   "source": [
    "plt.hist(CMS_80p_dist.event_mass_2jet, bins = 15)\n",
    "plt.show()"
   ]
  },
  {
   "cell_type": "markdown",
   "metadata": {},
   "source": [
    "Form mass distributions and calculate AUCs for samples of 50,000, 70,000, and 100,000 events. We brought the number of samples down to 20 so that the code would run quicker, but it will still take a few hours."
   ]
  },
  {
   "cell_type": "code",
   "execution_count": 12,
   "metadata": {},
   "outputs": [
    {
     "name": "stdout",
     "output_type": "stream",
     "text": [
      "[0.5117752604601418, 0.49221141353870634, 0.4918736540115213, 0.4942474868564354, 0.533008707056656]\n",
      "[0.5008468781503094, 0.5026023391812866, 0.5117048412285268, 0.48994350038138224, 0.5086982652464618]\n",
      "[0.5001727745401723, 0.5151588771729837, 0.5125094137813416, 0.4908226274336991, 0.49615076860035]\n",
      "[0.4795723234002536, 0.5066222373973047, 0.5274833196110109, 0.5028253954634323]\n",
      "[0.4787257183716932, 0.48482206967524644, 0.5140218781285196, 0.5057091476976954]\n",
      "[0.5150568893935596, 0.5092982904671814, 0.49970976273221346, 0.5332556881592555, 0.5202003859106653]\n",
      "[0.5050946024752154, 0.48761260217246866, 0.5133814414597604, 0.4753645139422295, 0.4775131547457]\n",
      "[0.5048479364189555, 0.5054731289366372, 0.4968614296210992, 0.5061930070527559, 0.5027721317173426]\n",
      "[0.5209985808944142, 0.5151114421249964, 0.4897975491907327, 0.5278459845607459]\n",
      "[0.5170876642314532, 0.4898906357282217, 0.48579992569421976, 0.5159110836677987, 0.4965876159049616]\n",
      "[0.5260605179960018, 0.5019355255707165, 0.5047365647629921, 0.5055975687563463]\n",
      "[0.4935066791134705, 0.5030873001952512, 0.5100466733901367, 0.48284773236882306]\n",
      "[0.5250250964997873, 0.49445659274204157, 0.5145357619085758, 0.5186760489533533, 0.499917024928823]\n",
      "[0.48989725, 0.5028632276232222, 0.49896823027973114, 0.5153556429619449, 0.5063946716881125]\n",
      "[0.5341007329027964, 0.5026353581233369, 0.519224097371584, 0.5239107593365546, 0.5231724581724582]\n",
      "[0.5123407199234399, 0.5048541313758705, 0.5189734280388406, 0.500042020854139, 0.5157936250306105]\n",
      "[0.5195657093425778, 0.5024048535597399, 0.4885644762965474, 0.5109126697032218, 0.520352185110509]\n",
      "[0.5302092687496129, 0.513819409229209, 0.49461866258741266, 0.5204367618086635, 0.49866606557130955]\n",
      "[0.5116345446805217, 0.5174691594620522, 0.5128014359619373, 0.5033147195828291, 0.5145950689814264]\n",
      "[0.5057671212792113, 0.5059419486493903, 0.4968091605161528, 0.4984466750264738, 0.4907089897616969]\n",
      "--- 4973.845066018 seconds ---\n"
     ]
    },
    {
     "data": {
      "text/plain": [
       "'\\nAUC_scores_25000 = generate_AUCs_from_sample(CMS_80p_dist.event_mass_2jet,\\n                                             CMS_80p_dist.event_list_2, 25000, 50)\\n\\nAUC_scores_10000 = generate_AUCs_from_sample(CMS_80p_dist.event_mass_2jet,\\n                                             CMS_80p_dist.event_list_2, 10000, 50)\\n\\n'"
      ]
     },
     "execution_count": 12,
     "metadata": {},
     "output_type": "execute_result"
    }
   ],
   "source": [
    "t1_start = process_time() # Start timing the process\n",
    "\n",
    "'''The printed output indicates the AUCs across each event sample distribution. There will be 20 lines of \n",
    "output per each AUC analysis run, since we're taking 20 samples. There should be 60 lines of output total, \n",
    "since we're running 3 analyses, each on 3 different sample sizes.'''\n",
    "\n",
    "# Generate AUC scores for 20 samples of 50,000 events\n",
    "AUC_scores_50000 = generate_AUCs_from_sample(CMS_80p_dist.event_mass_2jet,\n",
    "                                             CMS_80p_dist.event_list_2, 50000, 20)\n",
    "\n",
    "# Generate AUC scores for 20 samples of 70,000 events\n",
    "AUC_scores_70000 = generate_AUCs_from_sample(CMS_80p_dist.event_mass_2jet,\n",
    "                                             CMS_80p_dist.event_list_2, 70000, 20)\n",
    "\n",
    "# Generate AUC scores for 20 samples of 100,000 events\n",
    "AUC_scores_100000 = generate_AUCs_from_sample(CMS_80p_dist.event_mass_2jet,\n",
    "                                             CMS_80p_dist.event_list_2, 100000, 20)\n",
    "\n",
    "print(\"--- %s seconds ---\" % (process_time() - t1_start)) # Stop timing the process - should take 2-3 hours at least\n"
   ]
  },
  {
   "cell_type": "markdown",
   "metadata": {},
   "source": [
    "Define helper function to calculate AUC stats given the matrices of AUC scores calculated above"
   ]
  },
  {
   "cell_type": "code",
   "execution_count": 2,
   "metadata": {},
   "outputs": [],
   "source": [
    "#Inputs: (AUC score matrix, expected/most common amount of bins)\n",
    "#Ouputs: Matrix showing mean and standard deviation of AUC scores across the consecutive bin pairs\n",
    "\n",
    "def calculate_stats(AUC_scores, expected_length):\n",
    "    \n",
    "    #Only keep AUC score rows that match the expected_length\n",
    "    keep_indices = []\n",
    "    for i in range(len(AUC_scores)):\n",
    "        if len(AUC_scores[i]) == expected_length:\n",
    "            keep_indices.append(i)\n",
    "    AUC_scores_array_sorted = []\n",
    "    for index in keep_indices:\n",
    "        AUC_scores_array_sorted.append(AUC_scores[index])\n",
    "    \n",
    "    #Calculate mean and standard deviation for each bin pair of AUC scores\n",
    "    AUC_scores_array_sorted = np.array(AUC_scores_array_sorted)    \n",
    "    AUC_scores_array_sorted = np.transpose(AUC_scores_array_sorted)\n",
    "    AUC_stats = []\n",
    "    for AUC_score_bin in AUC_scores_array_sorted:\n",
    "        AUC_stats.append([statistics.mean(AUC_score_bin), statistics.stdev(AUC_score_bin)])\n",
    "\n",
    "        \n",
    "    return AUC_stats"
   ]
  },
  {
   "cell_type": "markdown",
   "metadata": {},
   "source": [
    "Calculate means and uncertainties in AUC for each sample size of events with the above helper function"
   ]
  },
  {
   "cell_type": "code",
   "execution_count": 5,
   "metadata": {},
   "outputs": [
    {
     "name": "stdout",
     "output_type": "stream",
     "text": [
      "AUC Stats for sample size of 100000 (Mean, Stdev)\n",
      "[[0.5105322370156745, 0.013605272375471784], [0.5007858870433575, 0.013873346940985992], [0.5079765725123272, 0.015898960203635334], [0.5093272223973182, 0.010919041453624654], [0.5060702279759798, 0.012452826811080306]]\n"
     ]
    },
    {
     "data": {
      "text/plain": [
       "'\\nprint()\\nprint(\"AUC Stats for sample size of 25000 (Mean, Stdev)\")\\nprint(stats_25000)\\nprint()\\nprint(\"AUC Stats for sample size of 10000 (Mean, Stdev)\")\\nprint(stats_10000)\\nprint()\\n'"
      ]
     },
     "execution_count": 5,
     "metadata": {},
     "output_type": "execute_result"
    }
   ],
   "source": [
    "#Calculate AUC stats for each sample size (expected number of bins are already filled in)\n",
    "stats_50000 = calculate_stats(AUC_scores_50000, 4) \n",
    "stats_25000 = calculate_stats(AUC_scores_70000, 5) \n",
    "stats_10000 = calculate_stats(AUC_scores_100000, 8) \n",
    "\n",
    "#Stats are printed in the format [[Bin1Mean, Bin1Stdev], [Bin2Mean, Bin2Stdev], ...]\n",
    "print(\"AUC Stats for sample size of 100000 [Mean, Stdev]\")\n",
    "print(stats_70000)\n",
    "print()\n",
    "\n",
    "print(\"AUC Stats for sample size of 25000 [Mean, Stdev]\")\n",
    "print(stats_25000)\n",
    "print()\n",
    "\n",
    "print(\"AUC Stats for sample size of 10000 [Mean, Stdev]\")\n",
    "print(stats_10000)\n",
    "print()"
   ]
  },
  {
   "cell_type": "code",
   "execution_count": null,
   "metadata": {},
   "outputs": [],
   "source": []
  }
 ],
 "metadata": {
  "kernelspec": {
   "display_name": "Python 3",
   "language": "python",
   "name": "python3"
  },
  "language_info": {
   "codemirror_mode": {
    "name": "ipython",
    "version": 3
   },
   "file_extension": ".py",
   "mimetype": "text/x-python",
   "name": "python",
   "nbconvert_exporter": "python",
   "pygments_lexer": "ipython3",
   "version": "3.6.5"
  }
 },
 "nbformat": 4,
 "nbformat_minor": 2
}
